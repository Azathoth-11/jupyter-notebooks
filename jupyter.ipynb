{
 "cells": [
  {
   "cell_type": "markdown",
   "metadata": {},
   "source": [
    "import keyword as kw\n",
    "\n",
    "print(kw.kwlist)"
   ]
  },
  {
   "cell_type": "markdown",
   "metadata": {},
   "source": [
    "# Keywords and Indentifiers.\n",
    "\n",
    "# Identity are name given to the entities ( class, functions, varaibles etc.) in python.\n",
    "\n",
    "# It is a combination of uppercase and lowercase letter and numbers.\n",
    "# A identifier cannot start with a number"
   ]
  },
  {
   "cell_type": "code",
   "execution_count": 2,
   "metadata": {
    "scrolled": true
   },
   "outputs": [
    {
     "name": "stdout",
     "output_type": "stream",
     "text": [
      "2\n",
      "40\n"
     ]
    }
   ],
   "source": [
    "\n",
    "print(10 >> 2)\n",
    "print(10 << 2)"
   ]
  },
  {
   "cell_type": "code",
   "execution_count": 13,
   "metadata": {},
   "outputs": [
    {
     "name": "stdout",
     "output_type": "stream",
     "text": [
      "bandra,mumbai\n"
     ]
    }
   ],
   "source": [
    "sname = 'bmaunmdbraai'\n",
    "name = ''\n",
    "name2 = ''\n",
    "for i in range(0,len(sname),2):\n",
    "    name += sname[i]\n",
    "    name2 += sname[i+1]\n",
    "    \n",
    "print(name + \",\" + name2)"
   ]
  },
  {
   "cell_type": "code",
   "execution_count": 1,
   "metadata": {},
   "outputs": [
    {
     "name": "stdout",
     "output_type": "stream",
     "text": [
      "sometingrohit\n"
     ]
    }
   ],
   "source": [
    "msg = \"someting\"\n",
    "\n",
    "\n",
    "print(msg + name)"
   ]
  },
  {
   "cell_type": "markdown",
   "metadata": {},
   "source": [
    "# if elif else: statements\n",
    "# "
   ]
  },
  {
   "cell_type": "code",
   "execution_count": 1,
   "metadata": {},
   "outputs": [
    {
     "name": "stdout",
     "output_type": "stream",
     "text": [
      "+ve Number\n"
     ]
    }
   ],
   "source": [
    "num = 10\n",
    "if num > 0:\n",
    "    print(\"+ve Number\")\n",
    "else:\n",
    "    print(\"-ve Number\")"
   ]
  },
  {
   "cell_type": "code",
   "execution_count": 3,
   "metadata": {},
   "outputs": [
    {
     "name": "stdout",
     "output_type": "stream",
     "text": [
      "+ve Number\n"
     ]
    }
   ],
   "source": [
    "num = 10\n",
    "if num >= 0:\n",
    "    if num == 0:\n",
    "        print(\"Zero\")\n",
    "    else:\n",
    "        print(\"+ve Number\")\n",
    "else:\n",
    "    print(\"-ve Number\")"
   ]
  },
  {
   "cell_type": "code",
   "execution_count": 5,
   "metadata": {},
   "outputs": [
    {
     "name": "stdout",
     "output_type": "stream",
     "text": [
      "30 is the greatest\n",
      "10 is the smallest\n"
     ]
    }
   ],
   "source": [
    "num1 = 10\n",
    "num2 = 20\n",
    "num3 = 30\n",
    "\n",
    "if (num1>num2) and (num1>num3):\n",
    "    print(f\"{num1} is the greatest\")\n",
    "    if (num2<num3):\n",
    "        print(f\"{num2} is the smallest\")\n",
    "    else:\n",
    "        print(f\"{num3} is the smallest\")\n",
    "elif (num2>num1) and (num2>num3):\n",
    "    print(f\"{num2} is the greatest\")\n",
    "    if (num1<num3):\n",
    "        print(f\"{num1} is the smallest\")\n",
    "    else:\n",
    "        print(f\"{num3} is the smallest\")\n",
    "else:\n",
    "    print(f\"{num3} is the greatest\")\n",
    "    if num2<num1:\n",
    "        print(f\"{num2} is the smallest\")\n",
    "    else:\n",
    "        print(f\"{num1} is the smallest\")"
   ]
  },
  {
   "cell_type": "markdown",
   "metadata": {},
   "source": [
    "# Linear search \n",
    "\n",
    "Linear seach is the simplest searching algorithm \n",
    "It traverses the array seq to locate the req element\n",
    "Its search for an element by comparing it with each element of the array one-by-one\n",
    "So it is also called as sequentional search\n",
    "In linear search algo the list of data items are smaller\n",
    "\n",
    "### Best case in linear search\n",
    "O(1)\n",
    "The element being search may be in the first index of the array\n",
    "\n",
    "### Worst case in linear search\n",
    "O(n)\n",
    "The element being search may be in the last index of the array\n",
    "\n",
    "\n",
    "## Linear seach effi. is less than binary search\n",
    "\n"
   ]
  },
  {
   "cell_type": "markdown",
   "metadata": {},
   "source": [
    "# Binary search \n",
    "\n",
    "\n",
    "Binary search is one of the fastest seaching algorithm\n",
    "\n",
    "It is used for finding a location of element in an linear array\n",
    "\n",
    "it work on the principle of divide and conquer technique\n",
    "\n",
    "Works only in sorted array (ascending or descending)\n",
    "\n",
    "## Avg case of binary search \n",
    "\n",
    "O(log n)\n",
    "\n",
    "reduces the effort by half\n",
    "works on a large data sets\n",
    "\n"
   ]
  },
  {
   "cell_type": "markdown",
   "metadata": {},
   "source": [
    "# Functions are grp of related code to perform a specific task\n",
    "\n",
    "## It avoids repetition and also makes it compact and effective.\n",
    "\n",
    "## It helps to break code in to smaller chunks"
   ]
  },
  {
   "cell_type": "code",
   "execution_count": 21,
   "metadata": {
    "scrolled": false
   },
   "outputs": [
    {
     "name": "stdout",
     "output_type": "stream",
     "text": [
      "this is a docstring\n"
     ]
    }
   ],
   "source": [
    "def sum(ls):\n",
    "    '''this is a docstring'''\n",
    "    sum = 0\n",
    "    y = len(ls)\n",
    "    for i in range(y):\n",
    "        sum += int(ls[i])\n",
    "    return sum\n",
    "\n",
    "\n",
    "# x = input(\"enter the numbers with spaces: \")\n",
    "\n",
    "a = x.split(\" \")\n",
    "\n",
    "print(sum.__doc__)"
   ]
  },
  {
   "cell_type": "code",
   "execution_count": null,
   "metadata": {},
   "outputs": [
    {
     "name": "stdout",
     "output_type": "stream",
     "text": [
      "Enter number to be searched :6\n"
     ]
    }
   ],
   "source": []
  },
  {
   "cell_type": "code",
   "execution_count": 3,
   "metadata": {},
   "outputs": [
    {
     "name": "stdout",
     "output_type": "stream",
     "text": [
      "Enter number to be searched :65\n",
      "the element is not in the array\n"
     ]
    }
   ],
   "source": [
    "arr=list(range(0,101,2))\n",
    "x=int(input(\"Enter number to be searched :\"))\n",
    "\n",
    "\n",
    "def searchNum(arr,x,beg=0,end=len(arr)-1):\n",
    "    if end>=beg:\n",
    "        mid=end+beg // 2\n",
    "\n",
    "        if arr[mid]==x:\n",
    "            return mid\n",
    "        elif arr[mid]>x:\n",
    "           return searchNum(arr,x,beg,mid-1)\n",
    "        else:\n",
    "           return searchNum(arr,x,mid+1,end)\n",
    "\n",
    "    else:\n",
    "        return -1\n",
    "\n",
    "result= searchNum(arr,x)\n",
    "\n",
    "if result !=-1:\n",
    "    print(\"the element is at:\" ,str(result))\n",
    "\n",
    "else:\n",
    "    print(\"the element is not in the array\")\n",
    "\n",
    "\n"
   ]
  },
  {
   "cell_type": "code",
   "execution_count": null,
   "metadata": {},
   "outputs": [],
   "source": [
    "import random\n",
    "def generate_list(n):\n",
    "    lst=[random.randint(0,100) for i in range(n)]\n",
    "    lst.sort()\n",
    "    for i in range(1,len(lst)):\n",
    "        lst[i] = lst[i-1] +2\n",
    "    return lst\n",
    "\n",
    "def binary_search(lst,x):\n",
    "    start= 0\n",
    "    end= len(lst)-1\n",
    "    while start <=end:\n",
    "        mid = (start+end) //2\n",
    "        if lst[mid] ==x:\n",
    "            return True\n",
    "        elif lst[mid]<x:\n",
    "            start=mid+1\n",
    "        else:\n",
    "            end=mid-1\n",
    "    return false\n",
    "\n",
    "\n",
    "n=int(input(\"Enter the number of elements in the list: \"))\n",
    "x=int(input(\"Enter the number to search for: \"))\n",
    "\n",
    "lst= generate_list(n)\n",
    "result= binary_search(lst,x)\n",
    "\n",
    "if result:\n",
    "    print(\"The number is in the list\")\n",
    "else:\n",
    "    print(\"The number is not in the list.\")"
   ]
  }
 ],
 "metadata": {
  "kernelspec": {
   "display_name": "Python 3 (ipykernel)",
   "language": "python",
   "name": "python3"
  },
  "language_info": {
   "codemirror_mode": {
    "name": "ipython",
    "version": 3
   },
   "file_extension": ".py",
   "mimetype": "text/x-python",
   "name": "python",
   "nbconvert_exporter": "python",
   "pygments_lexer": "ipython3",
   "version": "3.10.7"
  },
  "vscode": {
   "interpreter": {
    "hash": "a86b2c211d377e3ac74c829a2c1fc6a9e92e0ba23731c289375a9b932616f1ce"
   }
  }
 },
 "nbformat": 4,
 "nbformat_minor": 2
}

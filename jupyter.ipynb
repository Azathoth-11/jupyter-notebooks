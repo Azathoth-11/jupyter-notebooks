{
  "cells": [
    {
      "cell_type": "markdown",
      "metadata": {
        "id": "fng_T31N8kUk"
      },
      "source": [
        "import keyword as kw\n",
        "\n",
        "print(kw.kwlist)"
      ]
    },
    {
      "cell_type": "markdown",
      "metadata": {
        "id": "c02pyxja8kUs"
      },
      "source": [
        "# Keywords and Indentifiers.\n",
        "\n",
        "# Identity are name given to the entities ( class, functions, varaibles etc.) in python.\n",
        "\n",
        "# It is a combination of uppercase and lowercase letter and numbers.\n",
        "# A identifier cannot start with a number"
      ]
    },
    {
      "cell_type": "code",
      "execution_count": 1,
      "metadata": {
        "scrolled": true,
        "id": "JD1mu4tg8kUu",
        "outputId": "3748aa6a-09ea-4b62-93d6-5faa35de5564",
        "colab": {
          "base_uri": "https://localhost:8080/"
        }
      },
      "outputs": [
        {
          "output_type": "stream",
          "name": "stdout",
          "text": [
            "2\n",
            "40\n"
          ]
        }
      ],
      "source": [
        "\n",
        "print(10 >> 2)\n",
        "print(10 << 2)"
      ]
    },
    {
      "cell_type": "code",
      "execution_count": null,
      "metadata": {
        "id": "OJ2HXBS38kUy",
        "outputId": "81acb1a6-e2b0-45f3-e566-f3477d517fa3"
      },
      "outputs": [
        {
          "name": "stdout",
          "output_type": "stream",
          "text": [
            "bandra,mumbai\n"
          ]
        }
      ],
      "source": [
        "sname = 'bmaunmdbraai'\n",
        "name = ''\n",
        "name2 = ''\n",
        "for i in range(0,len(sname),2):\n",
        "    name += sname[i]\n",
        "    name2 += sname[i+1]\n",
        "    \n",
        "print(name + \",\" + name2)"
      ]
    },
    {
      "cell_type": "code",
      "execution_count": null,
      "metadata": {
        "id": "yMGTDd6W8kU0",
        "outputId": "124f6e4e-4b7e-4182-b3ae-70697cd697f9"
      },
      "outputs": [
        {
          "name": "stdout",
          "output_type": "stream",
          "text": [
            "sometingrohit\n"
          ]
        }
      ],
      "source": [
        "msg = \"someting\"\n",
        "\n",
        "\n",
        "print(msg + name)"
      ]
    },
    {
      "cell_type": "markdown",
      "metadata": {
        "id": "C5fj5Jhb8kU1"
      },
      "source": [
        "# if elif else: statements\n",
        "# "
      ]
    },
    {
      "cell_type": "code",
      "execution_count": null,
      "metadata": {
        "id": "vNwnVsXD8kU2",
        "outputId": "75f56308-bbee-457a-b0d1-8a726d2a0def"
      },
      "outputs": [
        {
          "name": "stdout",
          "output_type": "stream",
          "text": [
            "+ve Number\n"
          ]
        }
      ],
      "source": [
        "num = 10\n",
        "if num > 0:\n",
        "    print(\"+ve Number\")\n",
        "else:\n",
        "    print(\"-ve Number\")"
      ]
    },
    {
      "cell_type": "code",
      "execution_count": null,
      "metadata": {
        "id": "O0rGI8Fs8kU3",
        "outputId": "a8bf3609-5e63-4f84-e8af-bc5d10f3b054"
      },
      "outputs": [
        {
          "name": "stdout",
          "output_type": "stream",
          "text": [
            "+ve Number\n"
          ]
        }
      ],
      "source": [
        "num = 10\n",
        "if num >= 0:\n",
        "    if num == 0:\n",
        "        print(\"Zero\")\n",
        "    else:\n",
        "        print(\"+ve Number\")\n",
        "else:\n",
        "    print(\"-ve Number\")"
      ]
    },
    {
      "cell_type": "code",
      "execution_count": null,
      "metadata": {
        "id": "IR5z58H_8kU4",
        "outputId": "be13f756-ad5e-4000-b5f5-abe938155878"
      },
      "outputs": [
        {
          "name": "stdout",
          "output_type": "stream",
          "text": [
            "30 is the greatest\n",
            "10 is the smallest\n"
          ]
        }
      ],
      "source": [
        "num1 = 10\n",
        "num2 = 20\n",
        "num3 = 30\n",
        "\n",
        "if (num1>num2) and (num1>num3):\n",
        "    print(f\"{num1} is the greatest\")\n",
        "    if (num2<num3):\n",
        "        print(f\"{num2} is the smallest\")\n",
        "    else:\n",
        "        print(f\"{num3} is the smallest\")\n",
        "elif (num2>num1) and (num2>num3):\n",
        "    print(f\"{num2} is the greatest\")\n",
        "    if (num1<num3):\n",
        "        print(f\"{num1} is the smallest\")\n",
        "    else:\n",
        "        print(f\"{num3} is the smallest\")\n",
        "else:\n",
        "    print(f\"{num3} is the greatest\")\n",
        "    if num2<num1:\n",
        "        print(f\"{num2} is the smallest\")\n",
        "    else:\n",
        "        print(f\"{num1} is the smallest\")"
      ]
    },
    {
      "cell_type": "markdown",
      "metadata": {
        "id": "JVo4jQLQ8kU5"
      },
      "source": [
        "# Linear search \n",
        "\n",
        "Linear seach is the simplest searching algorithm \n",
        "It traverses the array seq to locate the req element\n",
        "Its search for an element by comparing it with each element of the array one-by-one\n",
        "So it is also called as sequentional search\n",
        "In linear search algo the list of data items are smaller\n",
        "\n",
        "### Best case in linear search\n",
        "O(1)\n",
        "The element being search may be in the first index of the array\n",
        "\n",
        "### Worst case in linear search\n",
        "O(n)\n",
        "The element being search may be in the last index of the array\n",
        "\n",
        "\n",
        "## Linear seach effi. is less than binary search\n",
        "\n"
      ]
    },
    {
      "cell_type": "markdown",
      "metadata": {
        "id": "d-THlzuR8kU7"
      },
      "source": [
        "# Binary search \n",
        "\n",
        "\n",
        "Binary search is one of the fastest seaching algorithm\n",
        "\n",
        "It is used for finding a location of element in an linear array\n",
        "\n",
        "it work on the principle of divide and conquer technique\n",
        "\n",
        "Works only in sorted array (ascending or descending)\n",
        "\n",
        "## Avg case of binary search \n",
        "\n",
        "O(log n)\n",
        "\n",
        "reduces the effort by half\n",
        "works on a large data sets\n",
        "\n"
      ]
    },
    {
      "cell_type": "markdown",
      "metadata": {
        "id": "GlXuNjBv8kU8"
      },
      "source": [
        "# Functions are grp of related code to perform a specific task\n",
        "\n",
        "## It avoids repetition and also makes it compact and effective.\n",
        "\n",
        "## It helps to break code in to smaller chunks"
      ]
    },
    {
      "cell_type": "code",
      "execution_count": null,
      "metadata": {
        "scrolled": false,
        "id": "hJu3P4d08kU9",
        "outputId": "541ca814-2819-4bb9-86dc-30021d657680"
      },
      "outputs": [
        {
          "name": "stdout",
          "output_type": "stream",
          "text": [
            "this is a docstring\n"
          ]
        }
      ],
      "source": [
        "def sum(ls):\n",
        "    '''this is a docstring'''\n",
        "    sum = 0\n",
        "    y = len(ls)\n",
        "    for i in range(y):\n",
        "        sum += int(ls[i])\n",
        "    return sum\n",
        "\n",
        "\n",
        "# x = input(\"enter the numbers with spaces: \")\n",
        "\n",
        "a = x.split(\" \")\n",
        "\n",
        "print(sum.__doc__)"
      ]
    },
    {
      "cell_type": "code",
      "execution_count": null,
      "metadata": {
        "id": "nebJJ8xP8kU-",
        "outputId": "5f383a3a-37fb-4441-9088-14a6b05ff5c8"
      },
      "outputs": [
        {
          "name": "stdout",
          "output_type": "stream",
          "text": [
            "Enter number to be searched :6\n"
          ]
        }
      ],
      "source": []
    },
    {
      "cell_type": "code",
      "execution_count": null,
      "metadata": {
        "id": "3uEMyYu08kU_",
        "outputId": "925b380c-6234-4a66-b6e1-2620cbce3583"
      },
      "outputs": [
        {
          "name": "stdout",
          "output_type": "stream",
          "text": [
            "Enter number to be searched :65\n",
            "the element is not in the array\n"
          ]
        }
      ],
      "source": [
        "arr=list(range(0,101,2))\n",
        "x=int(input(\"Enter number to be searched :\"))\n",
        "\n",
        "\n",
        "def searchNum(arr,x,beg=0,end=len(arr)-1):\n",
        "    if end>=beg:\n",
        "        mid=end+beg // 2\n",
        "\n",
        "        if arr[mid]==x:\n",
        "            return mid\n",
        "        elif arr[mid]>x:\n",
        "           return searchNum(arr,x,beg,mid-1)\n",
        "        else:\n",
        "           return searchNum(arr,x,mid+1,end)\n",
        "\n",
        "    else:\n",
        "        return -1\n",
        "\n",
        "result= searchNum(arr,x)\n",
        "\n",
        "if result !=-1:\n",
        "    print(\"the element is at:\" ,str(result))\n",
        "\n",
        "else:\n",
        "    print(\"the element is not in the array\")\n",
        "\n",
        "\n"
      ]
    },
    {
      "cell_type": "code",
      "execution_count": null,
      "metadata": {
        "id": "ydXEx3Tk8kVA"
      },
      "outputs": [],
      "source": [
        "import random\n",
        "def generate_list(n):\n",
        "    lst=[random.randint(0,100) for i in range(n)]\n",
        "    lst.sort()\n",
        "    for i in range(1,len(lst)):\n",
        "        lst[i] = lst[i-1] +2\n",
        "    return lst\n",
        "\n",
        "def binary_search(lst,x):\n",
        "    start= 0\n",
        "    end= len(lst)-1\n",
        "    while start <=end:\n",
        "        mid = (start+end) //2\n",
        "        if lst[mid] ==x:\n",
        "            return True\n",
        "        elif lst[mid]<x:\n",
        "            start=mid+1\n",
        "        else:\n",
        "            end=mid-1\n",
        "    return false\n",
        "\n",
        "\n",
        "n=int(input(\"Enter the number of elements in the list: \"))\n",
        "x=int(input(\"Enter the number to search for: \"))\n",
        "\n",
        "lst= generate_list(n)\n",
        "result= binary_search(lst,x)\n",
        "\n",
        "if result:\n",
        "    print(\"The number is in the list\")\n",
        "else:\n",
        "    print(\"The number is not in the list.\")"
      ]
    },
    {
      "cell_type": "code",
      "source": [
        "print('just Trying')"
      ],
      "metadata": {
        "id": "-dOyHCEZ8tUb"
      },
      "execution_count": null,
      "outputs": []
    }
  ],
  "metadata": {
    "kernelspec": {
      "display_name": "Python 3 (ipykernel)",
      "language": "python",
      "name": "python3"
    },
    "language_info": {
      "codemirror_mode": {
        "name": "ipython",
        "version": 3
      },
      "file_extension": ".py",
      "mimetype": "text/x-python",
      "name": "python",
      "nbconvert_exporter": "python",
      "pygments_lexer": "ipython3",
      "version": "3.10.7"
    },
    "vscode": {
      "interpreter": {
        "hash": "a86b2c211d377e3ac74c829a2c1fc6a9e92e0ba23731c289375a9b932616f1ce"
      }
    },
    "colab": {
      "provenance": []
    }
  },
  "nbformat": 4,
  "nbformat_minor": 0
}